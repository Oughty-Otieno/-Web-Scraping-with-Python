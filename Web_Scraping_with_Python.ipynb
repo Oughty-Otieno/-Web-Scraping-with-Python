{
  "nbformat": 4,
  "nbformat_minor": 0,
  "metadata": {
    "colab": {
      "name": " Web Scraping with Python",
      "provenance": [],
      "collapsed_sections": [],
      "toc_visible": true,
      "include_colab_link": true
    },
    "kernelspec": {
      "name": "python3",
      "display_name": "Python 3"
    }
  },
  "cells": [
    {
      "cell_type": "markdown",
      "metadata": {
        "id": "view-in-github",
        "colab_type": "text"
      },
      "source": [
        "<a href=\"https://colab.research.google.com/github/Oughty-Otieno/-Web-Scraping-with-Python/blob/main/Web_Scraping_with_Python.ipynb\" target=\"_parent\"><img src=\"https://colab.research.google.com/assets/colab-badge.svg\" alt=\"Open In Colab\"/></a>"
      ]
    },
    {
      "cell_type": "markdown",
      "metadata": {
        "id": "7i5A-UY4Yruf"
      },
      "source": [
        "<font color='#2F4F4F'>To use this notebook on Colaboratory, you will need to make a copy of it. Go to File > Save a Copy in Drive. You can then use the new copy that will appear in the new tab.</font>\n"
      ]
    },
    {
      "cell_type": "markdown",
      "metadata": {
        "id": "0rOdcI2Nzhky"
      },
      "source": [
        "# <font color='#2F4F4F'>AfterWork Data Science: Web Scraping with Python</font>"
      ]
    },
    {
      "cell_type": "markdown",
      "source": [
        "# Background Information\n",
        "Together with a team of startup entrepreneurs, you decide to work on an idea that could\n",
        "change the way people search for jobs. You decide that job scraping could be the next\n",
        "big thing as there are actively many people looking for jobs in the country, in this case,\n",
        "Kenya.\n",
        "# Problem Statement\n",
        "The problem is that there are many job listings which can not get visits for the target job\n",
        "seekers. While working in a team, your task as a data scientist for this project is to\n",
        "scrape for job titles and links and then put them in a single table that can be used by\n",
        "your team members to further build a job aggregator.\n",
        "You will be required to scrape for data from the following three technology webpages:\n",
        "\n",
        "● PigiaMe: https://www.pigiame.co.ke/it-software-jobs\n",
        "\n",
        "● MyJobMag: https://www.myjobmag.co.ke/jobs-by-field/information-technology\n",
        "\n",
        "● KenyaJob:\n",
        "https://www.kenyajob.com/job-vacancies-search-kenya?f%5B0%5D=im_field_offr\n",
        "e_secteur%3A133"
      ],
      "metadata": {
        "id": "nopoCnkzHV_w"
      }
    },
    {
      "cell_type": "markdown",
      "metadata": {
        "id": "Tcso2rJCNAGq"
      },
      "source": [
        "## <font color='#2F4F4F'>Prerequisites</font>"
      ]
    },
    {
      "cell_type": "code",
      "metadata": {
        "id": "QSHljMZTNCRI"
      },
      "source": [
        "# We first import the required libraries\n",
        "# ---\n",
        "#\n",
        "import pandas as pd             # library for data manupation\n",
        "import requests                 # library for fetching a web page \n",
        "from bs4 import BeautifulSoup   # library for extrating contents from a webpage "
      ],
      "execution_count": 1,
      "outputs": []
    },
    {
      "cell_type": "markdown",
      "metadata": {
        "id": "CRmt1rRHgZRG"
      },
      "source": [
        "## <font color='#2F4F4F'>Step 1: Obtaining our Data</font>"
      ]
    },
    {
      "cell_type": "code",
      "metadata": {
        "id": "cM5TKD-P1h7Z",
        "colab": {
          "base_uri": "https://localhost:8080/"
        },
        "outputId": "345b1a92-98d3-4668-e019-a6e3474d9e10"
      },
      "source": [
        "# PigiaMe: https://www.pigiame.co.ke/it-software-jobs\n",
        "# ---\n",
        "#\n",
        "pigia_me = requests.get('https://www.pigiame.co.ke/it-software-jobs')\n",
        "pigia_me"
      ],
      "execution_count": 2,
      "outputs": [
        {
          "output_type": "execute_result",
          "data": {
            "text/plain": [
              "<Response [200]>"
            ]
          },
          "metadata": {},
          "execution_count": 2
        }
      ]
    },
    {
      "cell_type": "code",
      "metadata": {
        "id": "OfUvfxrD1nQC",
        "colab": {
          "base_uri": "https://localhost:8080/"
        },
        "outputId": "fe3eb02a-926e-46a2-c027-2ed9594f265a"
      },
      "source": [
        "# MyJobMag: https://www.myjobmag.co.ke/jobs-by-field/information-technology\n",
        "# ---\n",
        "#\n",
        "my_job_mag = requests.get('https://www.myjobmag.co.ke/jobs-by-field/information-technology')\n",
        "my_job_mag"
      ],
      "execution_count": 3,
      "outputs": [
        {
          "output_type": "execute_result",
          "data": {
            "text/plain": [
              "<Response [200]>"
            ]
          },
          "metadata": {},
          "execution_count": 3
        }
      ]
    },
    {
      "cell_type": "code",
      "metadata": {
        "id": "psWrYhRUQDJC",
        "colab": {
          "base_uri": "https://localhost:8080/"
        },
        "outputId": "4004fd9b-fdf8-4e38-dc5f-40bc8edad634"
      },
      "source": [
        "# KenyanJob: https://www.kenyajob.com/job-vacancies-search-kenya?f%5B0%5D=im_field_offre_secteur%3A133\n",
        "# ---\n",
        "#\n",
        "kenyan_job = requests.get('https://www.kenyajob.com/job-vacancies-search-kenya?f%5B0%5D=im_field_offre_secteur%3A133')\n",
        "kenyan_job"
      ],
      "execution_count": 4,
      "outputs": [
        {
          "output_type": "execute_result",
          "data": {
            "text/plain": [
              "<Response [200]>"
            ]
          },
          "metadata": {},
          "execution_count": 4
        }
      ]
    },
    {
      "cell_type": "markdown",
      "metadata": {
        "id": "h7iRb8U8hHNw"
      },
      "source": [
        "## <font color='#2F4F4F'>Step 2: Parsing</font>"
      ]
    },
    {
      "cell_type": "code",
      "metadata": {
        "id": "AXWSK1kD2oeN"
      },
      "source": [
        "# Parsing our document: pigia_me\n",
        "# ---\n",
        "# \n",
        "pigia_soup = BeautifulSoup(pigia_me.text, \"html.parser\")\n"
      ],
      "execution_count": 5,
      "outputs": []
    },
    {
      "cell_type": "code",
      "metadata": {
        "id": "lrH9mgR82pzg"
      },
      "source": [
        "# Parsing our document: my_job_mag\n",
        "# ---\n",
        "#  \n",
        "my_job_soup = BeautifulSoup(my_job_mag.text, \"html.parser\")"
      ],
      "execution_count": 6,
      "outputs": []
    },
    {
      "cell_type": "code",
      "metadata": {
        "id": "O0x-Wz03QP5O"
      },
      "source": [
        "# Parsing our document: kenyan_job\n",
        "# ---\n",
        "# \n",
        "kenyan_soup = BeautifulSoup(kenyan_job.text, \"html.parser\")"
      ],
      "execution_count": 7,
      "outputs": []
    },
    {
      "cell_type": "markdown",
      "metadata": {
        "id": "_OxuOAIXhPl5"
      },
      "source": [
        "## <font color='#2F4F4F'>Step 3: Extracting Required Elements</font>"
      ]
    },
    {
      "cell_type": "code",
      "metadata": {
        "id": "e2p147_LICKn",
        "colab": {
          "base_uri": "https://localhost:8080/"
        },
        "outputId": "ac277a95-9dcb-4c76-e413-40440d3a1a18"
      },
      "source": [
        "# 1. Extracting job titles and links: pigia me\n",
        "# ---\n",
        "# \n",
        "\n",
        "pigia_me_results = pigia_soup.find_all('div',attrs={'class':'listing-card__header__title'})\n",
        "pigia_me_results"
      ],
      "execution_count": 9,
      "outputs": [
        {
          "output_type": "execute_result",
          "data": {
            "text/plain": [
              "[<div class=\"listing-card__header__title\">\n",
              " Officer – Solution Developer\n",
              " </div>, <div class=\"listing-card__header__title\">\n",
              " Data Analyst\n",
              " </div>, <div class=\"listing-card__header__title\">\n",
              " Manager-System Developer\n",
              " </div>, <div class=\"listing-card__header__title\">\n",
              " Manager-Database Management\n",
              " </div>, <div class=\"listing-card__header__title\">\n",
              " Software Developer\n",
              " </div>, <div class=\"listing-card__header__title\">\n",
              " Assistant Sales Data Analyst\n",
              " </div>, <div class=\"listing-card__header__title\">\n",
              " Business Intelligence Analyst\n",
              " </div>, <div class=\"listing-card__header__title\">\n",
              " Software Developer - Server Team Leader\n",
              " </div>, <div class=\"listing-card__header__title\">\n",
              " Data Processing Officer- Programmer\n",
              " </div>, <div class=\"listing-card__header__title\">\n",
              " Software Engineer – Karen, Kenya\n",
              " </div>]"
            ]
          },
          "metadata": {},
          "execution_count": 9
        }
      ]
    },
    {
      "cell_type": "code",
      "source": [
        "#clean the tags\n",
        "pigia_me_results = [tag.get_text().strip()for tag in pigia_me_results]\n",
        "pigia_me_results"
      ],
      "metadata": {
        "colab": {
          "base_uri": "https://localhost:8080/"
        },
        "id": "XNxMUTNmIgj7",
        "outputId": "f7621035-4850-46fb-9dc6-b89dbb9f15e4"
      },
      "execution_count": 12,
      "outputs": [
        {
          "output_type": "execute_result",
          "data": {
            "text/plain": [
              "['Officer – Solution Developer',\n",
              " 'Data Analyst',\n",
              " 'Manager-System Developer',\n",
              " 'Manager-Database Management',\n",
              " 'Software Developer',\n",
              " 'Assistant Sales Data Analyst',\n",
              " 'Business Intelligence Analyst',\n",
              " 'Software Developer - Server Team Leader',\n",
              " 'Data Processing Officer- Programmer',\n",
              " 'Software Engineer – Karen, Kenya']"
            ]
          },
          "metadata": {},
          "execution_count": 12
        }
      ]
    },
    {
      "cell_type": "code",
      "metadata": {
        "id": "NNLbrng_3QfA",
        "colab": {
          "base_uri": "https://localhost:8080/"
        },
        "outputId": "2b52f454-65f4-45ca-b4fa-e1f61e451ae9"
      },
      "source": [
        "# 2. Extracting job titles: my_job_mag\n",
        "# ---\n",
        "# \n",
        "my_job_mag_results = my_job_soup.find_all('h2')\n",
        "my_job_mag_results"
      ],
      "execution_count": 10,
      "outputs": [
        {
          "output_type": "execute_result",
          "data": {
            "text/plain": [
              "[<h2><a href=\"/job/senior-technical-consultant-london-stock-exchange-group\">Senior Technical Consultant at London Stock Exchange Group</a></h2>,\n",
              " <h2><a href=\"/job/it-intern-african-guarantee-fund-agf\">IT Intern at African Guarantee Fund (AGF)</a></h2>,\n",
              " <h2><a href=\"/job/head-of-cyber-risk-red-team-equity-bank-kenya\">Head of Cyber Risk &amp; Red Team at Equity Bank Kenya</a></h2>,\n",
              " <h2><a href=\"/job/cyber-risk-red-team-specialist-equity-bank-kenya\">Cyber Risk &amp; Red Team Specialist at Equity Bank Kenya</a></h2>,\n",
              " <h2><a href=\"/job/it-risk-specialist-equity-bank-kenya\">IT Risk Specialist at Equity Bank Kenya</a></h2>,\n",
              " <h2><a href=\"/job/senior-manager-systems-infrastructure-kcb-bank-kenya-1\">Senior Manager Systems Infrastructure at KCB Bank Kenya</a></h2>,\n",
              " <h2><a href=\"/job/itil-processes-manager-kcb-bank-kenya\">ITIL Processes Manager at KCB Bank Kenya</a></h2>,\n",
              " <h2><a href=\"/job/cybersecurity-analyst-devsecops-kcb-bank-kenya-1\">Cybersecurity Analyst, DevSecOps at KCB Bank Kenya</a></h2>,\n",
              " <h2><a href=\"/job/cybersecurity-specialist-data-security-privacy-kcb-bank-kenya-2\">Cybersecurity Specialist, Data Security &amp; Privacy at KCB Bank Kenya</a></h2>,\n",
              " <h2><a href=\"/job/information-technology-it-associate-village-enterprise-1\">Information Technology (IT) Associate at Village Enterprise</a></h2>,\n",
              " <h2><a href=\"/job/deputy-director-information-communication-technology-kenya-medical-supplies-authority-kemsa\">Deputy Director, Information Communication Technology at Kenya Medical Supplies Authority (KEMSA)</a></h2>,\n",
              " <h2><a href=\"/job/it-service-desk-analyst-penda-health-1\">IT Service Desk Analyst at Penda Health</a></h2>,\n",
              " <h2><a href=\"/job/graduate-assistant-ict-zetech-university-1\">Graduate Assistant - ICT at Zetech University</a></h2>,\n",
              " <h2><a href=\"/job/assistant-area-manager-jamii-telecommunications\">Assistant Area Manager at Jamii Telecommunications</a></h2>,\n",
              " <h2><a href=\"/job/information-technology-it-associate-village-enterprise\">Information Technology (IT) Associate at Village Enterprise</a></h2>,\n",
              " <h2><a href=\"/job/regional-ict-engineer-international-committee-of-the-red-cross-icrc\">Regional ICT Engineer at International Committee of the Red Cross (ICRC)</a></h2>,\n",
              " <h2><a href=\"/job/ip-npi-and-nw-design-engineer-nokia\">IP NPI and NW Design Engineer at Nokia</a></h2>,\n",
              " <h2><a href=\"/job/software-developer-server-team-leader-sc8-food-and-agriculture-organization\">Software Developer - Server Team Leader (SC8) at Food and Agriculture Organization</a></h2>,\n",
              " <h2 class=\"main-h2\">Subscribe to Job Alert</h2>,\n",
              " <h2>Career Advice</h2>,\n",
              " <h2 class=\"main-h2\">Subscribe to Job Alert</h2>,\n",
              " <h2 class=\"ts-20\">Job Vacancies in ICT / Computer</h2>]"
            ]
          },
          "metadata": {},
          "execution_count": 10
        }
      ]
    },
    {
      "cell_type": "code",
      "source": [
        "#clean the tags\n",
        "my_job_mag_results = [tag.get_text().strip()for tag in my_job_mag_results]\n",
        "my_job_mag_results"
      ],
      "metadata": {
        "colab": {
          "base_uri": "https://localhost:8080/"
        },
        "id": "rB1T-Bi3I76Q",
        "outputId": "09bb2ce5-a89c-4d79-dc61-37d2171e9d91"
      },
      "execution_count": 13,
      "outputs": [
        {
          "output_type": "execute_result",
          "data": {
            "text/plain": [
              "['Senior Technical Consultant at London Stock Exchange Group',\n",
              " 'IT Intern at African Guarantee Fund (AGF)',\n",
              " 'Head of Cyber Risk & Red Team at Equity Bank Kenya',\n",
              " 'Cyber Risk & Red Team Specialist at Equity Bank Kenya',\n",
              " 'IT Risk Specialist at Equity Bank Kenya',\n",
              " 'Senior Manager Systems Infrastructure at KCB Bank Kenya',\n",
              " 'ITIL Processes Manager at KCB Bank Kenya',\n",
              " 'Cybersecurity Analyst, DevSecOps at KCB Bank Kenya',\n",
              " 'Cybersecurity Specialist, Data Security & Privacy at KCB Bank Kenya',\n",
              " 'Information Technology (IT) Associate at Village Enterprise',\n",
              " 'Deputy Director, Information Communication Technology at Kenya Medical Supplies Authority (KEMSA)',\n",
              " 'IT Service Desk Analyst at Penda Health',\n",
              " 'Graduate Assistant - ICT at Zetech University',\n",
              " 'Assistant Area Manager at Jamii Telecommunications',\n",
              " 'Information Technology (IT) Associate at Village Enterprise',\n",
              " 'Regional ICT Engineer at International Committee of the Red Cross (ICRC)',\n",
              " 'IP NPI and NW Design Engineer at Nokia',\n",
              " 'Software Developer - Server Team Leader (SC8) at Food and Agriculture Organization',\n",
              " 'Subscribe to Job Alert',\n",
              " 'Career Advice',\n",
              " 'Subscribe to Job Alert',\n",
              " 'Job Vacancies in ICT / Computer']"
            ]
          },
          "metadata": {},
          "execution_count": 13
        }
      ]
    },
    {
      "cell_type": "code",
      "metadata": {
        "id": "I0fQKn63QV0R",
        "colab": {
          "base_uri": "https://localhost:8080/"
        },
        "outputId": "fb3f4c3c-94d3-427d-ba2a-2d75e4d01d11"
      },
      "source": [
        "# 3. Extracting job titles: kenya_job\n",
        "# ---\n",
        "#\n",
        "kenya_job_results = kenyan_soup.find_all('h5')\n",
        "kenya_job_results"
      ],
      "execution_count": 11,
      "outputs": [
        {
          "output_type": "execute_result",
          "data": {
            "text/plain": [
              "[<h5><a href=\"/job-vacancies-kenya/sales-agent-110259\">Sales Agent</a></h5>,\n",
              " <h5><a href=\"/job-vacancies-kenya/senior-service-engineering-manager-114237\">Senior Service Engineering Manager</a></h5>,\n",
              " <h5><a href=\"/job-vacancies-kenya/account-technology-strategist-cross-114240\">Account Technology Strategist (Cross)</a></h5>,\n",
              " <h5><a href=\"/job-vacancies-kenya/payroll-service-delivery-manager-114242\">Payroll Service Delivery Manager</a></h5>,\n",
              " <h5><a href=\"/job-vacancies-kenya/software-engineering-lead-114243\">Software Engineering Lead</a></h5>,\n",
              " <h5><a href=\"/job-vacancies-kenya/data-contribution-project-kenya-109699\">Data Contribution Project - Kenya</a></h5>,\n",
              " <h5><a href=\"/job-vacancies-kenya/customer-service-officer-110222\">Customer Service Officer </a></h5>,\n",
              " <h5><a href=\"/job-vacancies-kenya/customer-service-executive-110933\">Customer Service Executive</a></h5>,\n",
              " <h5><a href=\"/job-vacancies-kenya/data-labeler-112385\">Data Labeler</a></h5>,\n",
              " <h5><a href=\"/job-vacancies-kenya/travel-safety-security-manager-compliance-coordinator-112627\">Travel Safety &amp; Security Manager  and Compliance Coordinator</a></h5>,\n",
              " <h5><a href=\"/job-vacancies-kenya/remote-sales-staff-113051\">Remote Sales Staff</a></h5>,\n",
              " <h5><a href=\"/job-vacancies-kenya/freelance-drupal-developer-114082\">Freelance Drupal Developer</a></h5>,\n",
              " <h5><a href=\"/job-vacancies-kenya/freelance-ecommerce-designer-114083\">Freelance ECommerce Designer</a></h5>,\n",
              " <h5><a href=\"/job-vacancies-kenya/freelance-digital-designer-114081\">Freelance Digital Designer</a></h5>,\n",
              " <h5><a href=\"/job-vacancies-kenya/growth-product-manager-114080\">Growth Product Manager</a></h5>,\n",
              " <h5><a href=\"/job-vacancies-kenya/smb-sales-lead-113880\">SMB Sales Lead</a></h5>,\n",
              " <h5><a href=\"/job-vacancies-kenya/payroll-service-delivery-manager-113881\">Payroll Service Delivery Manager</a></h5>,\n",
              " <h5><a href=\"/job-vacancies-kenya/account-technology-strategist-cross-113882\">Account Technology Strategist (Cross)</a></h5>,\n",
              " <h5><a href=\"/job-vacancies-kenya/software-engineer-ii-113883\">Software Engineer II</a></h5>,\n",
              " <h5><a href=\"/job-vacancies-kenya/egineer-access-network-transmission-support-22000437-113271\">Engineer- Access  Network Transmission &amp; Support - (22000437)</a></h5>,\n",
              " <h5><a href=\"/job-vacancies-kenya/freelance-ecommerce-designer-112905\">Freelance ECommerce Designer</a></h5>,\n",
              " <h5><a href=\"/job-vacancies-kenya/smb-account-specialist-emea-112908\">SMB Account Specialist - EMEA</a></h5>,\n",
              " <h5><a href=\"/job-vacancies-kenya/freelance-ecommerce-designer-112909\">Freelance ECommerce Designer</a></h5>,\n",
              " <h5><a href=\"/job-vacancies-kenya/freelance-web-designer-112910\">Freelance Web Designer</a></h5>,\n",
              " <h5><a href=\"/job-vacancies-kenya/global-account-manager-german-speaker-112375\">Global Account Manager (German Speaker)</a></h5>]"
            ]
          },
          "metadata": {},
          "execution_count": 11
        }
      ]
    },
    {
      "cell_type": "code",
      "source": [
        "#clean the tags\n",
        "kenya_job_results = [tag.get_text().strip()for tag in kenya_job_results]\n",
        "kenya_job_results"
      ],
      "metadata": {
        "colab": {
          "base_uri": "https://localhost:8080/"
        },
        "id": "3pez3bzdJF3h",
        "outputId": "7b811128-2968-48f0-b87b-867a7ae464ad"
      },
      "execution_count": 14,
      "outputs": [
        {
          "output_type": "execute_result",
          "data": {
            "text/plain": [
              "['Sales Agent',\n",
              " 'Senior Service Engineering Manager',\n",
              " 'Account Technology Strategist (Cross)',\n",
              " 'Payroll Service Delivery Manager',\n",
              " 'Software Engineering Lead',\n",
              " 'Data Contribution Project - Kenya',\n",
              " 'Customer Service Officer',\n",
              " 'Customer Service Executive',\n",
              " 'Data Labeler',\n",
              " 'Travel Safety & Security Manager  and Compliance Coordinator',\n",
              " 'Remote Sales Staff',\n",
              " 'Freelance Drupal Developer',\n",
              " 'Freelance ECommerce Designer',\n",
              " 'Freelance Digital Designer',\n",
              " 'Growth Product Manager',\n",
              " 'SMB Sales Lead',\n",
              " 'Payroll Service Delivery Manager',\n",
              " 'Account Technology Strategist (Cross)',\n",
              " 'Software Engineer II',\n",
              " 'Engineer- Access  Network Transmission & Support - (22000437)',\n",
              " 'Freelance ECommerce Designer',\n",
              " 'SMB Account Specialist - EMEA',\n",
              " 'Freelance ECommerce Designer',\n",
              " 'Freelance Web Designer',\n",
              " 'Global Account Manager (German Speaker)']"
            ]
          },
          "metadata": {},
          "execution_count": 14
        }
      ]
    },
    {
      "cell_type": "markdown",
      "metadata": {
        "id": "7ePXABAihaKn"
      },
      "source": [
        "## <font color='#2F4F4F'>Step 4: Saving our Data</font>"
      ]
    },
    {
      "cell_type": "code",
      "metadata": {
        "id": "fsG9pQXk5f8y",
        "colab": {
          "base_uri": "https://localhost:8080/",
          "height": 206
        },
        "outputId": "d3accdde-b385-4080-8420-a0143c3bcb7c"
      },
      "source": [
        "# Saving the scraped contents in a dataframe and preview our data\n",
        "# ---\n",
        "#\n",
        "#Pigia Me\n",
        "pigia_me_df = pd.DataFrame({\"title\":pigia_me_results})\n",
        "pigia_me_df.head()\n"
      ],
      "execution_count": 15,
      "outputs": [
        {
          "output_type": "execute_result",
          "data": {
            "text/plain": [
              "                          title\n",
              "0  Officer – Solution Developer\n",
              "1                  Data Analyst\n",
              "2      Manager-System Developer\n",
              "3   Manager-Database Management\n",
              "4            Software Developer"
            ],
            "text/html": [
              "\n",
              "  <div id=\"df-1ecbd0f3-81bd-4598-9ad1-d6716e8adbc7\">\n",
              "    <div class=\"colab-df-container\">\n",
              "      <div>\n",
              "<style scoped>\n",
              "    .dataframe tbody tr th:only-of-type {\n",
              "        vertical-align: middle;\n",
              "    }\n",
              "\n",
              "    .dataframe tbody tr th {\n",
              "        vertical-align: top;\n",
              "    }\n",
              "\n",
              "    .dataframe thead th {\n",
              "        text-align: right;\n",
              "    }\n",
              "</style>\n",
              "<table border=\"1\" class=\"dataframe\">\n",
              "  <thead>\n",
              "    <tr style=\"text-align: right;\">\n",
              "      <th></th>\n",
              "      <th>title</th>\n",
              "    </tr>\n",
              "  </thead>\n",
              "  <tbody>\n",
              "    <tr>\n",
              "      <th>0</th>\n",
              "      <td>Officer – Solution Developer</td>\n",
              "    </tr>\n",
              "    <tr>\n",
              "      <th>1</th>\n",
              "      <td>Data Analyst</td>\n",
              "    </tr>\n",
              "    <tr>\n",
              "      <th>2</th>\n",
              "      <td>Manager-System Developer</td>\n",
              "    </tr>\n",
              "    <tr>\n",
              "      <th>3</th>\n",
              "      <td>Manager-Database Management</td>\n",
              "    </tr>\n",
              "    <tr>\n",
              "      <th>4</th>\n",
              "      <td>Software Developer</td>\n",
              "    </tr>\n",
              "  </tbody>\n",
              "</table>\n",
              "</div>\n",
              "      <button class=\"colab-df-convert\" onclick=\"convertToInteractive('df-1ecbd0f3-81bd-4598-9ad1-d6716e8adbc7')\"\n",
              "              title=\"Convert this dataframe to an interactive table.\"\n",
              "              style=\"display:none;\">\n",
              "        \n",
              "  <svg xmlns=\"http://www.w3.org/2000/svg\" height=\"24px\"viewBox=\"0 0 24 24\"\n",
              "       width=\"24px\">\n",
              "    <path d=\"M0 0h24v24H0V0z\" fill=\"none\"/>\n",
              "    <path d=\"M18.56 5.44l.94 2.06.94-2.06 2.06-.94-2.06-.94-.94-2.06-.94 2.06-2.06.94zm-11 1L8.5 8.5l.94-2.06 2.06-.94-2.06-.94L8.5 2.5l-.94 2.06-2.06.94zm10 10l.94 2.06.94-2.06 2.06-.94-2.06-.94-.94-2.06-.94 2.06-2.06.94z\"/><path d=\"M17.41 7.96l-1.37-1.37c-.4-.4-.92-.59-1.43-.59-.52 0-1.04.2-1.43.59L10.3 9.45l-7.72 7.72c-.78.78-.78 2.05 0 2.83L4 21.41c.39.39.9.59 1.41.59.51 0 1.02-.2 1.41-.59l7.78-7.78 2.81-2.81c.8-.78.8-2.07 0-2.86zM5.41 20L4 18.59l7.72-7.72 1.47 1.35L5.41 20z\"/>\n",
              "  </svg>\n",
              "      </button>\n",
              "      \n",
              "  <style>\n",
              "    .colab-df-container {\n",
              "      display:flex;\n",
              "      flex-wrap:wrap;\n",
              "      gap: 12px;\n",
              "    }\n",
              "\n",
              "    .colab-df-convert {\n",
              "      background-color: #E8F0FE;\n",
              "      border: none;\n",
              "      border-radius: 50%;\n",
              "      cursor: pointer;\n",
              "      display: none;\n",
              "      fill: #1967D2;\n",
              "      height: 32px;\n",
              "      padding: 0 0 0 0;\n",
              "      width: 32px;\n",
              "    }\n",
              "\n",
              "    .colab-df-convert:hover {\n",
              "      background-color: #E2EBFA;\n",
              "      box-shadow: 0px 1px 2px rgba(60, 64, 67, 0.3), 0px 1px 3px 1px rgba(60, 64, 67, 0.15);\n",
              "      fill: #174EA6;\n",
              "    }\n",
              "\n",
              "    [theme=dark] .colab-df-convert {\n",
              "      background-color: #3B4455;\n",
              "      fill: #D2E3FC;\n",
              "    }\n",
              "\n",
              "    [theme=dark] .colab-df-convert:hover {\n",
              "      background-color: #434B5C;\n",
              "      box-shadow: 0px 1px 3px 1px rgba(0, 0, 0, 0.15);\n",
              "      filter: drop-shadow(0px 1px 2px rgba(0, 0, 0, 0.3));\n",
              "      fill: #FFFFFF;\n",
              "    }\n",
              "  </style>\n",
              "\n",
              "      <script>\n",
              "        const buttonEl =\n",
              "          document.querySelector('#df-1ecbd0f3-81bd-4598-9ad1-d6716e8adbc7 button.colab-df-convert');\n",
              "        buttonEl.style.display =\n",
              "          google.colab.kernel.accessAllowed ? 'block' : 'none';\n",
              "\n",
              "        async function convertToInteractive(key) {\n",
              "          const element = document.querySelector('#df-1ecbd0f3-81bd-4598-9ad1-d6716e8adbc7');\n",
              "          const dataTable =\n",
              "            await google.colab.kernel.invokeFunction('convertToInteractive',\n",
              "                                                     [key], {});\n",
              "          if (!dataTable) return;\n",
              "\n",
              "          const docLinkHtml = 'Like what you see? Visit the ' +\n",
              "            '<a target=\"_blank\" href=https://colab.research.google.com/notebooks/data_table.ipynb>data table notebook</a>'\n",
              "            + ' to learn more about interactive tables.';\n",
              "          element.innerHTML = '';\n",
              "          dataTable['output_type'] = 'display_data';\n",
              "          await google.colab.output.renderOutput(dataTable, element);\n",
              "          const docLink = document.createElement('div');\n",
              "          docLink.innerHTML = docLinkHtml;\n",
              "          element.appendChild(docLink);\n",
              "        }\n",
              "      </script>\n",
              "    </div>\n",
              "  </div>\n",
              "  "
            ]
          },
          "metadata": {},
          "execution_count": 15
        }
      ]
    },
    {
      "cell_type": "code",
      "source": [
        "#My job\n",
        "my_job_mag_df = pd.DataFrame({\"title\":my_job_mag_results})\n",
        "my_job_mag_df.head()"
      ],
      "metadata": {
        "colab": {
          "base_uri": "https://localhost:8080/",
          "height": 206
        },
        "id": "NPBTFeLVJRZw",
        "outputId": "b71c211b-4d30-4346-ed61-c5e43d20b9d7"
      },
      "execution_count": 16,
      "outputs": [
        {
          "output_type": "execute_result",
          "data": {
            "text/plain": [
              "                                               title\n",
              "0  Senior Technical Consultant at London Stock Ex...\n",
              "1          IT Intern at African Guarantee Fund (AGF)\n",
              "2  Head of Cyber Risk & Red Team at Equity Bank K...\n",
              "3  Cyber Risk & Red Team Specialist at Equity Ban...\n",
              "4            IT Risk Specialist at Equity Bank Kenya"
            ],
            "text/html": [
              "\n",
              "  <div id=\"df-88050bd0-ff1d-4f66-8957-86abe7fab623\">\n",
              "    <div class=\"colab-df-container\">\n",
              "      <div>\n",
              "<style scoped>\n",
              "    .dataframe tbody tr th:only-of-type {\n",
              "        vertical-align: middle;\n",
              "    }\n",
              "\n",
              "    .dataframe tbody tr th {\n",
              "        vertical-align: top;\n",
              "    }\n",
              "\n",
              "    .dataframe thead th {\n",
              "        text-align: right;\n",
              "    }\n",
              "</style>\n",
              "<table border=\"1\" class=\"dataframe\">\n",
              "  <thead>\n",
              "    <tr style=\"text-align: right;\">\n",
              "      <th></th>\n",
              "      <th>title</th>\n",
              "    </tr>\n",
              "  </thead>\n",
              "  <tbody>\n",
              "    <tr>\n",
              "      <th>0</th>\n",
              "      <td>Senior Technical Consultant at London Stock Ex...</td>\n",
              "    </tr>\n",
              "    <tr>\n",
              "      <th>1</th>\n",
              "      <td>IT Intern at African Guarantee Fund (AGF)</td>\n",
              "    </tr>\n",
              "    <tr>\n",
              "      <th>2</th>\n",
              "      <td>Head of Cyber Risk &amp; Red Team at Equity Bank K...</td>\n",
              "    </tr>\n",
              "    <tr>\n",
              "      <th>3</th>\n",
              "      <td>Cyber Risk &amp; Red Team Specialist at Equity Ban...</td>\n",
              "    </tr>\n",
              "    <tr>\n",
              "      <th>4</th>\n",
              "      <td>IT Risk Specialist at Equity Bank Kenya</td>\n",
              "    </tr>\n",
              "  </tbody>\n",
              "</table>\n",
              "</div>\n",
              "      <button class=\"colab-df-convert\" onclick=\"convertToInteractive('df-88050bd0-ff1d-4f66-8957-86abe7fab623')\"\n",
              "              title=\"Convert this dataframe to an interactive table.\"\n",
              "              style=\"display:none;\">\n",
              "        \n",
              "  <svg xmlns=\"http://www.w3.org/2000/svg\" height=\"24px\"viewBox=\"0 0 24 24\"\n",
              "       width=\"24px\">\n",
              "    <path d=\"M0 0h24v24H0V0z\" fill=\"none\"/>\n",
              "    <path d=\"M18.56 5.44l.94 2.06.94-2.06 2.06-.94-2.06-.94-.94-2.06-.94 2.06-2.06.94zm-11 1L8.5 8.5l.94-2.06 2.06-.94-2.06-.94L8.5 2.5l-.94 2.06-2.06.94zm10 10l.94 2.06.94-2.06 2.06-.94-2.06-.94-.94-2.06-.94 2.06-2.06.94z\"/><path d=\"M17.41 7.96l-1.37-1.37c-.4-.4-.92-.59-1.43-.59-.52 0-1.04.2-1.43.59L10.3 9.45l-7.72 7.72c-.78.78-.78 2.05 0 2.83L4 21.41c.39.39.9.59 1.41.59.51 0 1.02-.2 1.41-.59l7.78-7.78 2.81-2.81c.8-.78.8-2.07 0-2.86zM5.41 20L4 18.59l7.72-7.72 1.47 1.35L5.41 20z\"/>\n",
              "  </svg>\n",
              "      </button>\n",
              "      \n",
              "  <style>\n",
              "    .colab-df-container {\n",
              "      display:flex;\n",
              "      flex-wrap:wrap;\n",
              "      gap: 12px;\n",
              "    }\n",
              "\n",
              "    .colab-df-convert {\n",
              "      background-color: #E8F0FE;\n",
              "      border: none;\n",
              "      border-radius: 50%;\n",
              "      cursor: pointer;\n",
              "      display: none;\n",
              "      fill: #1967D2;\n",
              "      height: 32px;\n",
              "      padding: 0 0 0 0;\n",
              "      width: 32px;\n",
              "    }\n",
              "\n",
              "    .colab-df-convert:hover {\n",
              "      background-color: #E2EBFA;\n",
              "      box-shadow: 0px 1px 2px rgba(60, 64, 67, 0.3), 0px 1px 3px 1px rgba(60, 64, 67, 0.15);\n",
              "      fill: #174EA6;\n",
              "    }\n",
              "\n",
              "    [theme=dark] .colab-df-convert {\n",
              "      background-color: #3B4455;\n",
              "      fill: #D2E3FC;\n",
              "    }\n",
              "\n",
              "    [theme=dark] .colab-df-convert:hover {\n",
              "      background-color: #434B5C;\n",
              "      box-shadow: 0px 1px 3px 1px rgba(0, 0, 0, 0.15);\n",
              "      filter: drop-shadow(0px 1px 2px rgba(0, 0, 0, 0.3));\n",
              "      fill: #FFFFFF;\n",
              "    }\n",
              "  </style>\n",
              "\n",
              "      <script>\n",
              "        const buttonEl =\n",
              "          document.querySelector('#df-88050bd0-ff1d-4f66-8957-86abe7fab623 button.colab-df-convert');\n",
              "        buttonEl.style.display =\n",
              "          google.colab.kernel.accessAllowed ? 'block' : 'none';\n",
              "\n",
              "        async function convertToInteractive(key) {\n",
              "          const element = document.querySelector('#df-88050bd0-ff1d-4f66-8957-86abe7fab623');\n",
              "          const dataTable =\n",
              "            await google.colab.kernel.invokeFunction('convertToInteractive',\n",
              "                                                     [key], {});\n",
              "          if (!dataTable) return;\n",
              "\n",
              "          const docLinkHtml = 'Like what you see? Visit the ' +\n",
              "            '<a target=\"_blank\" href=https://colab.research.google.com/notebooks/data_table.ipynb>data table notebook</a>'\n",
              "            + ' to learn more about interactive tables.';\n",
              "          element.innerHTML = '';\n",
              "          dataTable['output_type'] = 'display_data';\n",
              "          await google.colab.output.renderOutput(dataTable, element);\n",
              "          const docLink = document.createElement('div');\n",
              "          docLink.innerHTML = docLinkHtml;\n",
              "          element.appendChild(docLink);\n",
              "        }\n",
              "      </script>\n",
              "    </div>\n",
              "  </div>\n",
              "  "
            ]
          },
          "metadata": {},
          "execution_count": 16
        }
      ]
    },
    {
      "cell_type": "code",
      "source": [
        "#Kenya job\n",
        "kenya_job_df = pd.DataFrame({\"title\":kenya_job_results})\n",
        "kenya_job_df.head()"
      ],
      "metadata": {
        "colab": {
          "base_uri": "https://localhost:8080/",
          "height": 206
        },
        "id": "X1_21HO2JZf5",
        "outputId": "8c1cb432-9cc5-4c8b-ea02-f3087f2dc0c5"
      },
      "execution_count": 17,
      "outputs": [
        {
          "output_type": "execute_result",
          "data": {
            "text/plain": [
              "                                   title\n",
              "0                            Sales Agent\n",
              "1     Senior Service Engineering Manager\n",
              "2  Account Technology Strategist (Cross)\n",
              "3       Payroll Service Delivery Manager\n",
              "4              Software Engineering Lead"
            ],
            "text/html": [
              "\n",
              "  <div id=\"df-703d64c6-55a4-4849-ac55-0c895fa38de2\">\n",
              "    <div class=\"colab-df-container\">\n",
              "      <div>\n",
              "<style scoped>\n",
              "    .dataframe tbody tr th:only-of-type {\n",
              "        vertical-align: middle;\n",
              "    }\n",
              "\n",
              "    .dataframe tbody tr th {\n",
              "        vertical-align: top;\n",
              "    }\n",
              "\n",
              "    .dataframe thead th {\n",
              "        text-align: right;\n",
              "    }\n",
              "</style>\n",
              "<table border=\"1\" class=\"dataframe\">\n",
              "  <thead>\n",
              "    <tr style=\"text-align: right;\">\n",
              "      <th></th>\n",
              "      <th>title</th>\n",
              "    </tr>\n",
              "  </thead>\n",
              "  <tbody>\n",
              "    <tr>\n",
              "      <th>0</th>\n",
              "      <td>Sales Agent</td>\n",
              "    </tr>\n",
              "    <tr>\n",
              "      <th>1</th>\n",
              "      <td>Senior Service Engineering Manager</td>\n",
              "    </tr>\n",
              "    <tr>\n",
              "      <th>2</th>\n",
              "      <td>Account Technology Strategist (Cross)</td>\n",
              "    </tr>\n",
              "    <tr>\n",
              "      <th>3</th>\n",
              "      <td>Payroll Service Delivery Manager</td>\n",
              "    </tr>\n",
              "    <tr>\n",
              "      <th>4</th>\n",
              "      <td>Software Engineering Lead</td>\n",
              "    </tr>\n",
              "  </tbody>\n",
              "</table>\n",
              "</div>\n",
              "      <button class=\"colab-df-convert\" onclick=\"convertToInteractive('df-703d64c6-55a4-4849-ac55-0c895fa38de2')\"\n",
              "              title=\"Convert this dataframe to an interactive table.\"\n",
              "              style=\"display:none;\">\n",
              "        \n",
              "  <svg xmlns=\"http://www.w3.org/2000/svg\" height=\"24px\"viewBox=\"0 0 24 24\"\n",
              "       width=\"24px\">\n",
              "    <path d=\"M0 0h24v24H0V0z\" fill=\"none\"/>\n",
              "    <path d=\"M18.56 5.44l.94 2.06.94-2.06 2.06-.94-2.06-.94-.94-2.06-.94 2.06-2.06.94zm-11 1L8.5 8.5l.94-2.06 2.06-.94-2.06-.94L8.5 2.5l-.94 2.06-2.06.94zm10 10l.94 2.06.94-2.06 2.06-.94-2.06-.94-.94-2.06-.94 2.06-2.06.94z\"/><path d=\"M17.41 7.96l-1.37-1.37c-.4-.4-.92-.59-1.43-.59-.52 0-1.04.2-1.43.59L10.3 9.45l-7.72 7.72c-.78.78-.78 2.05 0 2.83L4 21.41c.39.39.9.59 1.41.59.51 0 1.02-.2 1.41-.59l7.78-7.78 2.81-2.81c.8-.78.8-2.07 0-2.86zM5.41 20L4 18.59l7.72-7.72 1.47 1.35L5.41 20z\"/>\n",
              "  </svg>\n",
              "      </button>\n",
              "      \n",
              "  <style>\n",
              "    .colab-df-container {\n",
              "      display:flex;\n",
              "      flex-wrap:wrap;\n",
              "      gap: 12px;\n",
              "    }\n",
              "\n",
              "    .colab-df-convert {\n",
              "      background-color: #E8F0FE;\n",
              "      border: none;\n",
              "      border-radius: 50%;\n",
              "      cursor: pointer;\n",
              "      display: none;\n",
              "      fill: #1967D2;\n",
              "      height: 32px;\n",
              "      padding: 0 0 0 0;\n",
              "      width: 32px;\n",
              "    }\n",
              "\n",
              "    .colab-df-convert:hover {\n",
              "      background-color: #E2EBFA;\n",
              "      box-shadow: 0px 1px 2px rgba(60, 64, 67, 0.3), 0px 1px 3px 1px rgba(60, 64, 67, 0.15);\n",
              "      fill: #174EA6;\n",
              "    }\n",
              "\n",
              "    [theme=dark] .colab-df-convert {\n",
              "      background-color: #3B4455;\n",
              "      fill: #D2E3FC;\n",
              "    }\n",
              "\n",
              "    [theme=dark] .colab-df-convert:hover {\n",
              "      background-color: #434B5C;\n",
              "      box-shadow: 0px 1px 3px 1px rgba(0, 0, 0, 0.15);\n",
              "      filter: drop-shadow(0px 1px 2px rgba(0, 0, 0, 0.3));\n",
              "      fill: #FFFFFF;\n",
              "    }\n",
              "  </style>\n",
              "\n",
              "      <script>\n",
              "        const buttonEl =\n",
              "          document.querySelector('#df-703d64c6-55a4-4849-ac55-0c895fa38de2 button.colab-df-convert');\n",
              "        buttonEl.style.display =\n",
              "          google.colab.kernel.accessAllowed ? 'block' : 'none';\n",
              "\n",
              "        async function convertToInteractive(key) {\n",
              "          const element = document.querySelector('#df-703d64c6-55a4-4849-ac55-0c895fa38de2');\n",
              "          const dataTable =\n",
              "            await google.colab.kernel.invokeFunction('convertToInteractive',\n",
              "                                                     [key], {});\n",
              "          if (!dataTable) return;\n",
              "\n",
              "          const docLinkHtml = 'Like what you see? Visit the ' +\n",
              "            '<a target=\"_blank\" href=https://colab.research.google.com/notebooks/data_table.ipynb>data table notebook</a>'\n",
              "            + ' to learn more about interactive tables.';\n",
              "          element.innerHTML = '';\n",
              "          dataTable['output_type'] = 'display_data';\n",
              "          await google.colab.output.renderOutput(dataTable, element);\n",
              "          const docLink = document.createElement('div');\n",
              "          docLink.innerHTML = docLinkHtml;\n",
              "          element.appendChild(docLink);\n",
              "        }\n",
              "      </script>\n",
              "    </div>\n",
              "  </div>\n",
              "  "
            ]
          },
          "metadata": {},
          "execution_count": 17
        }
      ]
    }
  ]
}